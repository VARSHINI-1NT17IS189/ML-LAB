{
 "cells": [
  {
   "cell_type": "code",
   "execution_count": 1,
   "metadata": {},
   "outputs": [
    {
     "name": "stdout",
     "output_type": "stream",
     "text": [
      "Enter operand 1\t123\n",
      "Enter operand 2\t456\n",
      "Options\n",
      "1.Sum\n",
      "2.Subtract\n",
      "3.Multiply\n",
      "4.Divide\n",
      "5.Exit\n",
      "1\n",
      "579\n"
     ]
    }
   ],
   "source": [
    "a = int(input(\"Enter operand 1\\t\"))\n",
    "b = int(input(\"Enter operand 2\\t\"))\n",
    "print(\"Options\\n1.Sum\\n2.Subtract\\n3.Multiply\\n4.Divide\\n5.Exit\")\n",
    "x = input()\n",
    "if x == \"1\":\n",
    "    print(a + b)\n",
    "elif x == \"2\":\n",
    "    print(a-b)\n",
    "elif x == \"3\":\n",
    "    print(a*b)\n",
    "elif x == \"4\":\n",
    "    print(a/b)\n",
    "elif x == \"5\":\n",
    "    print(\"Exiting...\")\n",
    "else:\n",
    "    print(\"Invalid Input\")"
   ]
  },
  {
   "cell_type": "code",
   "execution_count": null,
   "metadata": {},
   "outputs": [],
   "source": []
  }
 ],
 "metadata": {
  "kernelspec": {
   "display_name": "Python 3",
   "language": "python",
   "name": "python3"
  },
  "language_info": {
   "codemirror_mode": {
    "name": "ipython",
    "version": 3
   },
   "file_extension": ".py",
   "mimetype": "text/x-python",
   "name": "python",
   "nbconvert_exporter": "python",
   "pygments_lexer": "ipython3",
   "version": "3.6.9"
  }
 },
 "nbformat": 4,
 "nbformat_minor": 2
}
