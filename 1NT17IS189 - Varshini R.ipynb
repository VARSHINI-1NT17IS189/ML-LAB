{
 "cells": [
  {
   "cell_type": "code",
   "execution_count": 1,
   "metadata": {},
   "outputs": [
    {
     "name": "stdout",
     "output_type": "stream",
     "text": [
      "[0.0, 0.08282208588957055, 0.018404907975460124, 0.1656441717791411, 1.0, 1.0]\n"
     ]
    }
   ],
   "source": [
    "# NORMAIZATION\n",
    "\n",
    "li=[10,54,12,108,652,325]\n",
    "def normalize(li):\n",
    "    for i in range(len(li)):\n",
    "        xmin=min(li)\n",
    "        xmax=max(li)\n",
    "        li[i]=(li[i]-xmin)/(xmax-xmin)\n",
    "    return li\n",
    "print(normalize(li))"
   ]
  },
  {
   "cell_type": "code",
   "execution_count": 2,
   "metadata": {},
   "outputs": [
    {
     "name": "stdout",
     "output_type": "stream",
     "text": [
      "[-0.7934639018358774, -0.6032055275537052, -0.7848157939139605, -0.36970661366194835, 1.982578741099454, 0.5686130958660375]\n"
     ]
    }
   ],
   "source": [
    "# STANDARDIZATION\n",
    "\n",
    "li=[10,54,12,108,652,325]\n",
    "def standardize(li):\n",
    "    mean=sum(li)/len(li)\n",
    "    var=0\n",
    "    for i in range(len(li)):\n",
    "        var+=(li[i]-mean)**2\n",
    "    var=var/len(li)\n",
    "    import math\n",
    "    std=math.sqrt(var)\n",
    "    for i in range(len(li)):\n",
    "        li[i]=(li[i]-mean)/std\n",
    "    return li\n",
    "print(standardize(li))"
   ]
  },
  {
   "cell_type": "code",
   "execution_count": 3,
   "metadata": {},
   "outputs": [],
   "source": [
    "import math\n",
    "points = [[5.9,3.2],\n",
    "          [4.6,2.9],\n",
    "          [6.2,2.8],\n",
    "          [4.7,3.2],\n",
    "          [5.5,4.2],\n",
    "          [5.0,3.0],\n",
    "          [4.9,3.1],\n",
    "          [6.7,3.1],\n",
    "          [5.1,3.8],\n",
    "          [6.0,3.0]\n",
    "    \n",
    "]\n",
    "\n",
    "rc=[6.2,3.2]\n",
    "gc=[6.6,3.7]\n",
    "bc=[6.5,3.0]\n",
    "\n",
    "centroids = [rc,gc,bc]\n",
    "R=[]\n",
    "G=[]\n",
    "B=[]"
   ]
  },
  {
   "cell_type": "code",
   "execution_count": 4,
   "metadata": {},
   "outputs": [],
   "source": [
    "def find_which_centroid(point, centroids):\n",
    "#     return [((point[0] - centroid[0])**2 + (point[1] - centroid[1])**2)**(0.5),\n",
    "    l = []\n",
    "    for centroid in centroids:\n",
    "        l.append([((point[0] - centroid[0])**2 + (point[1] - centroid[1])**2)**(0.5), centroid])\n",
    "    min_centroid_list = l[0]\n",
    "   \n",
    "    # list: [[1, [2,3]], list[0] = [1, [2,3]], list[0][1] = [2,3]\n",
    "    #        [4, [5,6]],\n",
    "    #       ]\n",
    "   \n",
    "    for i in l:\n",
    "        if i[0] < min_centroid_list[0]:\n",
    "            min_centroid_list = i\n",
    "    return min_centroid_list[1]\n",
    "       "
   ]
  },
  {
   "cell_type": "code",
   "execution_count": 5,
   "metadata": {},
   "outputs": [],
   "source": [
    "def cluster_points(points, centroids):\n",
    "    rl = []\n",
    "    gl = []\n",
    "    bl = []\n",
    "    for point in points:\n",
    "        c = find_which_centroid(point, centroids)\n",
    "        if c == centroids[0]:\n",
    "            rl.append(point)\n",
    "        elif c == centroids[1]:\n",
    "            gl.append(point)\n",
    "        else:\n",
    "            bl.append(point)\n",
    "    l = [rl, gl, bl]\n",
    "    return l"
   ]
  },
  {
   "cell_type": "code",
   "execution_count": 6,
   "metadata": {},
   "outputs": [
    {
     "name": "stdout",
     "output_type": "stream",
     "text": [
      "[[5.9, 3.2], [4.6, 2.9], [4.7, 3.2], [5.0, 3.0], [4.9, 3.1], [5.1, 3.8], [6.0, 3.0]]\n",
      "[[5.5, 4.2]]\n",
      "[[6.2, 2.8], [6.7, 3.1]]\n"
     ]
    }
   ],
   "source": [
    "clusters = cluster_points(points, centroids)\n",
    "for cluster in clusters:\n",
    "    print(cluster) \n"
   ]
  },
  {
   "cell_type": "code",
   "execution_count": 7,
   "metadata": {},
   "outputs": [],
   "source": [
    "R=clusters[0]\n",
    "G=clusters[1]\n",
    "B=clusters[2]"
   ]
  },
  {
   "cell_type": "code",
   "execution_count": 8,
   "metadata": {},
   "outputs": [
    {
     "name": "stdout",
     "output_type": "stream",
     "text": [
      "mean = 3.5\n",
      "variance = 3.9166666666666665\n",
      "std_deviation = 1.9790570145063195\n"
     ]
    }
   ],
   "source": [
    "# MEAN , VARIANCE , STANDARD DEVIATION\n",
    "\n",
    "import math\n",
    "data = [3,5,2,7,1,3]\n",
    "n = len(data)\n",
    "mean = sum(data) / n\n",
    "print(\"mean =\",mean)\n",
    "deviations = [(x - mean) ** 2 for x in data]\n",
    "variance = sum(deviations) / n\n",
    "print(\"variance =\",variance)\n",
    "std = math.sqrt(variance)\n",
    "print(\"std_deviation =\",std)"
   ]
  },
  {
   "cell_type": "code",
   "execution_count": 14,
   "metadata": {},
   "outputs": [
    {
     "name": "stdout",
     "output_type": "stream",
     "text": [
      "mean = 3.5\n",
      "std_deviation = 1.9790570145063195\n",
      "standardisation = [-0.2526455763199557, 0.7579367289598671, -0.7579367289598671, 1.7685190342396897, -1.2632278815997784, -0.2526455763199557]\n"
     ]
    }
   ],
   "source": [
    "# MEAN , STANDARD DEVIATION , STANDARDIZATION\n",
    "\n",
    "import math\n",
    "data = [3,5,2,7,1,3]\n",
    "n = len(data)\n",
    "mean = sum(data) / n\n",
    "print(\"mean =\",mean)\n",
    "deviations = [(x - mean) ** 2 for x in data]\n",
    "variance = sum(deviations) / n\n",
    "std = math.sqrt(variance)\n",
    "print(\"std_deviation =\",std)\n",
    "st = [(x-mean)/std for x in data]\n",
    "print(\"standardisation =\",st)"
   ]
  },
  {
   "cell_type": "code",
   "execution_count": 16,
   "metadata": {},
   "outputs": [],
   "source": [
    "#MEAN , MEDIAN , MODE , STANDARD DEVIATION , VARIANCE , NORMALIZATION , STANDARDIZATION\n",
    "\n",
    "def mean(list):\n",
    "    total=0\n",
    "    for i in range(0,len(list)):\n",
    "        total+=list[i]\n",
    "    return (total/len(list))\n",
    "def median(list):\n",
    "    for i in range(0,len(list)-1):  \n",
    "        for j in range(len(list)-1):  \n",
    "            if(list[j]>list[j+1]):  \n",
    "                temp = list[j]  \n",
    "                list[j] = list[j+1]  \n",
    "                list[j+1] = temp\n",
    "    return list[int(len(list)/2)]  \n",
    "def mode(list):\n",
    "    var= int(input(\"enter the number\"))\n",
    "    count=0\n",
    "    for i in range(0,len(list)-1):\n",
    "        if (var==list[i]):\n",
    "            count =count+1\n",
    "    return count        \n",
    "def calculate(list,var):\n",
    "    if (var==1):\n",
    "        return  mean(list)\n",
    "    elif (var==2):\n",
    "        return mode(list)\n",
    "    elif (var==3):\n",
    "        return median(list)\n",
    "    elif (var==4):\n",
    "        return standard(list)\n",
    "    elif (var==5):\n",
    "        return variance(list)\n",
    "    elif (var==6):\n",
    "        return normalize(list)\n",
    "    else:\n",
    "        return standardize(list)\n",
    "def standard(list):\n",
    "    n=mean(list)\n",
    "    temp=0\n",
    "    for i in list:\n",
    "        temp=temp +((i-n)**2)\n",
    "    sd=math.sqrt((temp/len(list)))\n",
    "    return sd\n",
    "def variance(list):\n",
    "    n=mean(list)\n",
    "    temp=0\n",
    "    for i in range(len(list)):\n",
    "        temp=temp +((i-n)**2)\n",
    "        sd=math.sqrt((temp/len(list)))\n",
    "        var=sd*sd\n",
    "    print(\"variance is {}\".format(var))\n",
    "def normalize(list):\n",
    "    n1=min(list)\n",
    "    n2=max(list)\n",
    "    n3=0\n",
    "    for i in list:\n",
    "        n3=0\n",
    "        n3=((i-n1)/(n2-n1))\n",
    "        print(n3)\n",
    "def standardize(list):\n",
    "    n3=0\n",
    "    n1=mean(list)\n",
    "    n2=standard(list)\n",
    "    for i in list:\n",
    "        n3+=(i-n1)/n2\n",
    "        print (n3)\n"
   ]
  },
  {
   "cell_type": "code",
   "execution_count": 18,
   "metadata": {},
   "outputs": [
    {
     "name": "stdout",
     "output_type": "stream",
     "text": [
      "1. mean 2. mode 3. median 4. standard deviation 5. variance 6. normalization 7.standardization5\n",
      "variance is 13636.477600000002\n",
      "None\n"
     ]
    }
   ],
   "source": [
    "list=[115.3,195.5,120.5,110.2,90.4,105.6,110.9,116.3,122.3,125.4]\n",
    "var=int(input(\"1. mean 2. mode 3. median 4. standard deviation 5. variance 6. normalization 7.standardization\"))\n",
    "print(calculate(list,var))"
   ]
  },
  {
   "cell_type": "code",
   "execution_count": 14,
   "metadata": {},
   "outputs": [
    {
     "name": "stdout",
     "output_type": "stream",
     "text": [
      "Mean / Average is: 2.0500000000000003\n"
     ]
    }
   ],
   "source": [
    "#MEAN\n",
    "\n",
    "num = [2,4,6.3]\n",
    "a = len(num)\n",
    "\n",
    "get_sum = sum(num)\n",
    "mean = get_sum / n\n",
    "\n",
    "print(\"Mean / Average is: \" + str(mean))"
   ]
  },
  {
   "cell_type": "code",
   "execution_count": 6,
   "metadata": {},
   "outputs": [
    {
     "name": "stdout",
     "output_type": "stream",
     "text": [
      "Median is: 3\n"
     ]
    }
   ],
   "source": [
    "#MEDIAN\n",
    "\n",
    "num = [3,6,4,2,1]\n",
    "n = len(num)\n",
    "num.sort()\n",
    "\n",
    "if n % 2 == 0:\n",
    "\tmedian1 = num[n//2]\n",
    "\tmedian2 = num[n//2 - 1]\n",
    "\tmedian = (median1 + median2)/2\n",
    "else:\n",
    "\tmedian = num[n//2]\n",
    "print(\"Median is: \" + str(median))"
   ]
  },
  {
   "cell_type": "code",
   "execution_count": 7,
   "metadata": {},
   "outputs": [
    {
     "name": "stdout",
     "output_type": "stream",
     "text": [
      "Mode is / are: 5\n"
     ]
    }
   ],
   "source": [
    "#MODE\n",
    "\n",
    "from collections import Counter\n",
    "\n",
    "n_num = [1, 2, 3, 4, 5, 5]\n",
    "n = len(n_num)\n",
    "\n",
    "data = Counter(n_num)\n",
    "get_mode = dict(data)\n",
    "mode = [k for k, v in get_mode.items() if v == max(list(data.values()))]\n",
    "\n",
    "if len(mode) == n:\n",
    "\tget_mode = \"No mode found\"\n",
    "else:\n",
    "\tget_mode = \"Mode is / are: \" + ', '.join(map(str, mode))\n",
    "\t\n",
    "print(get_mode)\n"
   ]
  },
  {
   "cell_type": "code",
   "execution_count": 8,
   "metadata": {},
   "outputs": [
    {
     "name": "stdout",
     "output_type": "stream",
     "text": [
      "[0.0, 0.014285714285714285, 0.02857142857142857, 0.05714285714285714, 0.8571428571428571, 1.0]\n"
     ]
    }
   ],
   "source": [
    "#Normalize\n",
    "\n",
    "l=[1,10,20,40,600,700]\n",
    "def normalize(l):\n",
    "    for i in range(len(l)):\n",
    "        xmin=min(l)\n",
    "        xmax=max(l)\n",
    "        l[i]=(l[i]-xmin)/(xmax-xmin)\n",
    "    return l\n",
    "print(normalize(l))"
   ]
  },
  {
   "cell_type": "code",
   "execution_count": 9,
   "metadata": {},
   "outputs": [
    {
     "name": "stdout",
     "output_type": "stream",
     "text": [
      "[-0.7591579596366211, -0.72912533705759, -0.6957557564142219, -0.6290165951274861, 1.2396799209011198, 1.5733757273347995]\n"
     ]
    }
   ],
   "source": [
    "#Standardize\n",
    "\n",
    "l=[1,10,20,40,600,700]\n",
    "def standardize(l):\n",
    "    mean=sum(l)/len(l)\n",
    "    var=0\n",
    "    for i in range(len(l)):\n",
    "        var+=(l[i]-mean)**2\n",
    "    var=var/len(l)\n",
    "    import math\n",
    "    std=math.sqrt(var)\n",
    "    for i in range(len(l)):\n",
    "        l[i]=(l[i]-mean)/std\n",
    "    return l\n",
    "print(standardize(l))\n",
    "        "
   ]
  },
  {
   "cell_type": "code",
   "execution_count": 10,
   "metadata": {},
   "outputs": [
    {
     "name": "stdout",
     "output_type": "stream",
     "text": [
      "Cluster1--> [[5.9, 3.2], [4.6, 2.9], [4.7, 3.2], [5.0, 3.0], [4.9, 3.1], [5.1, 3.8], [6.0, 3.0]]\n",
      "Cluster2--> [[5.5, 4.2]]\n",
      "Cluster3--> [[6.2, 2.8], [6.7, 3.1]]\n"
     ]
    }
   ],
   "source": [
    "#Clusters\n",
    "\n",
    "import math\n",
    "c1=[]\n",
    "c2=[]\n",
    "c3=[]\n",
    "x1,y1=6.2,3.2\n",
    "x2,y2=6.6,3.7\n",
    "x3,y3=6.5,3.0\n",
    "\n",
    "p=[[5.9,3.2],\n",
    "  [4.6,2.9],\n",
    "  [6.2,2.8],\n",
    "  [4.7,3.2],\n",
    "  [5.5,4.2],\n",
    "  [5.0,3.0],\n",
    "  [4.9,3.1],\n",
    "  [6.7,3.1],\n",
    "  [5.1,3.8],\n",
    "  [6.0,3.0]]\n",
    "\n",
    "def eucledian(a,b):\n",
    "    d1=math.sqrt((a-x1)**2+(b-y1)**2)\n",
    "    d2=math.sqrt((a-x2)**2+(b-y2)**2)\n",
    "    d3=math.sqrt((a-x3)**2+(b-y3)**2)\n",
    "    mind=min(d1,d2,d3)\n",
    "    if(mind==d1):\n",
    "        c1.append([a,b])\n",
    "    elif(mind==d2):\n",
    "        c2.append([a,b])\n",
    "    else:\n",
    "        c3.append([a,b])\n",
    "        \n",
    "        \n",
    "for i,j in p:\n",
    "    eucledian(i,j)\n",
    "    \n",
    "print(\"Cluster1-->\",c1)\n",
    "print(\"Cluster2-->\",c2)\n",
    "print(\"Cluster3-->\",c3)\n"
   ]
  },
  {
   "cell_type": "code",
   "execution_count": 15,
   "metadata": {},
   "outputs": [
    {
     "name": "stdout",
     "output_type": "stream",
     "text": [
      "Sorted Array in Ascending Order:\n",
      "[1, 2, 3, 7, 9]\n"
     ]
    }
   ],
   "source": [
    "#BUBBLE SORT\n",
    "\n",
    "def bubbleSort(arr):\n",
    "    \n",
    "    for i in range(len(arr)):\n",
    "        \n",
    "        for j in range(0, len(arr) - i - 1):\n",
    "\n",
    "            if arr[j] > arr[j + 1]:\n",
    "\n",
    "        \n",
    "                temp = arr[j]\n",
    "                arr[j] = arr[j+1]\n",
    "                arr[j+1] = temp\n",
    "\n",
    "\n",
    "data = [1,7,3,2,9]\n",
    "bubbleSort(data)\n",
    "\n",
    "print('Sorted Array in Ascending Order:')\n",
    "print(data)\n",
    "            "
   ]
  },
  {
   "cell_type": "code",
   "execution_count": 22,
   "metadata": {},
   "outputs": [
    {
     "name": "stdout",
     "output_type": "stream",
     "text": [
      "[1, 1, 3, 1, 2, 1, 1, 3, 1, 1]\n",
      "\n",
      "New centroids are\n",
      "cluster1 5.171428571428572 3.1714285714285713\n",
      "cluster2 5.5 4.2\n",
      "cluster3 6.45 2.95\n",
      "\n",
      " [3, 1, 3, 1, 2, 1, 1, 3, 2, 3]\n",
      "\n",
      "New centroids are\n",
      "cluster1 4.800000000000001 3.05\n",
      "cluster2 5.3 4.0\n",
      "cluster3 6.2 3.025\n",
      "\n",
      " [3, 1, 3, 1, 2, 1, 1, 3, 2, 3]\n",
      "\n",
      "New centroids are\n",
      "cluster1 4.800000000000001 3.05\n",
      "cluster2 5.3 4.0\n",
      "cluster3 6.2 3.025\n"
     ]
    }
   ],
   "source": [
    "# K MEANS\n",
    "\n",
    "import math\n",
    "cluster1 = []\n",
    "cluster2 = []\n",
    "cluster3 = []\n",
    "x1,y1 = 6.2,3.2\n",
    "x2,y2 = 6.6,3.7\n",
    "x3,y3 = 6.5,3.0\n",
    "points = [[5.9,3.2],\n",
    "           [4.6,2.9],\n",
    "           [6.2,2.8],\n",
    "           [4.7,3.2],\n",
    "           [5.5,4.2],\n",
    "           [5.0,3.0],\n",
    "           [4.9,3.1],\n",
    "           [6.7,3.1],\n",
    "           [5.1,3.8],\n",
    "           [6.0,3.0]]\n",
    "\n",
    "clist = []\n",
    "def eucledian_distance_1(a,b,xc1,yc1,xc2,yc2,xc3,yc3):\n",
    "   \n",
    "\n",
    "    dis1 = math.sqrt((a-xc1)**2 + (b-yc1)**2)\n",
    "    dis2 = math.sqrt((a-xc2)**2 + (b-yc2)**2)\n",
    "    dis3 = math.sqrt((a-xc3)**2 + (b-yc3)**2)\n",
    "    mind = min(dis1,dis2,dis3)\n",
    "    if(mind == dis1):\n",
    "        clist.append(1)\n",
    "        cluster1.append([a,b])\n",
    "    elif(mind==dis2):\n",
    "        clist.append(2)\n",
    "        cluster2.append([a,b])\n",
    "    else:\n",
    "        clist.append(3)\n",
    "        cluster3.append([a,b])\n",
    "   \n",
    "       \n",
    "def fnc(cls):\n",
    "    sumi = 0\n",
    "    sumj = 0\n",
    "    for i,j in cls:\n",
    "        sumi = sumi + i\n",
    "        sumj = sumj + j\n",
    "    ncx = (sumi/len(cls))\n",
    "    ncy = (sumj/len(cls))\n",
    "    return ncx,ncy\n",
    "\n",
    "for i,j in points:\n",
    "    eucledian_distance_1(i,j,x1,y1,x2,y2,x3,y3)\n",
    "   \n",
    "print(clist)\n",
    "\n",
    "clist = []\n",
    "nxc1,nyc1 = fnc(cluster1)\n",
    "nxc2,nyc2 = fnc(cluster2)\n",
    "nxc3,nyc3 = fnc(cluster3)\n",
    "\n",
    "print(\"\\nNew centroids are\")\n",
    "print(\"cluster1\",nxc1,nyc1)\n",
    "print(\"cluster2\",nxc2,nyc2)\n",
    "print(\"cluster3\",nxc3,nyc3)\n",
    "\n",
    "cluster1 = []\n",
    "cluster2 = []\n",
    "cluster3 = []\n",
    "\n",
    "for i,j in points:\n",
    "    eucledian_distance_1(i,j,nxc1,nyc1,nxc2,nyc2,nxc3,nyc3)\n",
    "   \n",
    "\n",
    "print(\"\\n\",clist)\n",
    "\n",
    "clist = []\n",
    "\n",
    "nxc1,nyc1 = fnc(cluster1)\n",
    "nxc2,nyc2 = fnc(cluster2)\n",
    "nxc3,nyc3 = fnc(cluster3)\n",
    "\n",
    "print(\"\\nNew centroids are\")\n",
    "print(\"cluster1\",nxc1,nyc1)\n",
    "print(\"cluster2\",nxc2,nyc2)\n",
    "print(\"cluster3\",nxc3,nyc3)\n",
    "\n",
    "cluster1 = []\n",
    "cluster2 = []\n",
    "cluster3 = []\n",
    "\n",
    "for i,j in points:\n",
    "    eucledian_distance_1(i,j,nxc1,nyc1,nxc2,nyc2,nxc3,nyc3)\n",
    "print(\"\\n\",clist)\n",
    "clist = []\n",
    "\n",
    "nxc1,nyc1 = fnc(cluster1)\n",
    "nxc2,nyc2 = fnc(cluster2)\n",
    "nxc3,nyc3 = fnc(cluster3)\n",
    "\n",
    "print(\"\\nNew centroids are\")\n",
    "print(\"cluster1\",nxc1,nyc1)\n",
    "print(\"cluster2\",nxc2,nyc2)\n",
    "print(\"cluster3\",nxc3,nyc3)\n",
    "\n",
    "cluster1 = []\n",
    "cluster2 = []\n",
    "cluster3 = []\n",
    "\n",
    "for i,j in points:\n",
    "    eucledian_distance_1(i,j,nxc1,nyc1,nxc2,nyc2,nxc3,nyc3)"
   ]
  },
  {
   "cell_type": "code",
   "execution_count": null,
   "metadata": {},
   "outputs": [],
   "source": []
  }
 ],
 "metadata": {
  "kernelspec": {
   "display_name": "Python 3",
   "language": "python",
   "name": "python3"
  },
  "language_info": {
   "codemirror_mode": {
    "name": "ipython",
    "version": 3
   },
   "file_extension": ".py",
   "mimetype": "text/x-python",
   "name": "python",
   "nbconvert_exporter": "python",
   "pygments_lexer": "ipython3",
   "version": "3.6.9"
  }
 },
 "nbformat": 4,
 "nbformat_minor": 2
}
